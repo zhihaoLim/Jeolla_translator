{
 "cells": [
  {
   "cell_type": "markdown",
   "id": "04961be5",
   "metadata": {},
   "source": [
    "# KoBART 기반 모델링"
   ]
  },
  {
   "cell_type": "markdown",
   "id": "2c3d0959",
   "metadata": {},
   "source": [
    "### 1. 필요 모듈 임포트"
   ]
  },
  {
   "cell_type": "code",
   "execution_count": 1,
   "id": "bd4cd4bd",
   "metadata": {},
   "outputs": [
    {
     "name": "stderr",
     "output_type": "stream",
     "text": [
      "/Users/jeeho/anaconda3/lib/python3.11/site-packages/transformers/utils/generic.py:260: UserWarning: torch.utils._pytree._register_pytree_node is deprecated. Please use torch.utils._pytree.register_pytree_node instead.\n",
      "  torch.utils._pytree._register_pytree_node(\n"
     ]
    },
    {
     "name": "stdout",
     "output_type": "stream",
     "text": [
      "Using device: cpu\n"
     ]
    },
    {
     "name": "stderr",
     "output_type": "stream",
     "text": [
      "/Users/jeeho/anaconda3/lib/python3.11/site-packages/transformers/utils/generic.py:260: UserWarning: torch.utils._pytree._register_pytree_node is deprecated. Please use torch.utils._pytree.register_pytree_node instead.\n",
      "  torch.utils._pytree._register_pytree_node(\n"
     ]
    }
   ],
   "source": [
    "import accelerate #GPU 사용 시 필요\n",
    "import transformers\n",
    "import torch\n",
    "import pandas as pd\n",
    "import numpy as np\n",
    "import os\n",
    "from transformers import AutoModelForCausalLM, AutoTokenizer, AdamW, BitsAndBytesConfig, AutoModelForSeq2SeqLM, Seq2SeqTrainingArguments, Seq2SeqTrainer\n",
    "from tqdm.notebook import tqdm\n",
    "pd.options.display.max_colwidth = 1000\n",
    "\n",
    "## Check for CUDA availability (GPU 사용 시 필요)\n",
    "device = torch.device(\"cuda\" if torch.cuda.is_available() else \"cpu\")\n",
    "print(f\"Using device: {device}\")"
   ]
  },
  {
   "cell_type": "markdown",
   "id": "86c68a5b",
   "metadata": {},
   "source": [
    "### 2. 모델 임포트"
   ]
  },
  {
   "cell_type": "code",
   "execution_count": 2,
   "id": "28469fbc",
   "metadata": {
    "scrolled": true
   },
   "outputs": [
    {
     "name": "stderr",
     "output_type": "stream",
     "text": [
      "You passed along `num_labels=3` with an incompatible id to label map: {'0': 'NEGATIVE', '1': 'POSITIVE'}. The number of labels wil be overwritten to 2.\n",
      "You passed along `num_labels=3` with an incompatible id to label map: {'0': 'NEGATIVE', '1': 'POSITIVE'}. The number of labels wil be overwritten to 2.\n",
      "You passed along `num_labels=3` with an incompatible id to label map: {'0': 'NEGATIVE', '1': 'POSITIVE'}. The number of labels wil be overwritten to 2.\n"
     ]
    }
   ],
   "source": [
    "# Load model directly'\n",
    "model_name = \"gogamza/kobart-base-v2\"\n",
    "tokenizer = AutoTokenizer.from_pretrained(model_name)\n",
    "model = AutoModelForSeq2SeqLM.from_pretrained(model_name)"
   ]
  },
  {
   "cell_type": "markdown",
   "id": "fe75c8ff",
   "metadata": {},
   "source": [
    "### 3. 데이터 로드 및 전처리"
   ]
  },
  {
   "cell_type": "code",
   "execution_count": 3,
   "id": "6c455175",
   "metadata": {},
   "outputs": [],
   "source": [
    "train_data = pd.read_csv('./중노년층_한국어_방언_데이터/data_따라말하기.csv')"
   ]
  },
  {
   "cell_type": "code",
   "execution_count": 4,
   "id": "2070d8b7",
   "metadata": {},
   "outputs": [
    {
     "name": "stderr",
     "output_type": "stream",
     "text": [
      "/Users/jeeho/anaconda3/lib/python3.11/site-packages/transformers/tokenization_utils_base.py:3660: UserWarning: `as_target_tokenizer` is deprecated and will be removed in v5 of Transformers. You can tokenize your labels by using the argument `text_target` of the regular `__call__` method (either in the same call as your input texts if you use the same keyword arguments, or in a separate call.\n",
      "  warnings.warn(\n"
     ]
    }
   ],
   "source": [
    "## 사투리 토큰, 표준어 토큰 정의하기\n",
    "dialect_token = \"[방언]\"\n",
    "standard_token = \"[표준]\"\n",
    "\n",
    "## 양방향 데이터 리스트 생성\n",
    "bidirectional_data = []\n",
    "\n",
    "for dialect, standard in zip(train_data['dialect'], train_data['standard']):\n",
    "    ## 토큰이 [방언] 일 경우 방언 -> 표준어\n",
    "    bidirectional_data.append({\n",
    "        \"source\": dialect_token + \" \" + dialect,\n",
    "        \"target\": standard\n",
    "    })\n",
    "    ## 토큰이 [표준] 일 경우 표준어 -> 방언\n",
    "    bidirectional_data.append({\n",
    "        \"source\": standard_token + \" \" + standard,\n",
    "        \"target\": dialect\n",
    "    })\n",
    "\n",
    "## 데이터 토크나이징\n",
    "tokenized_data = []\n",
    "for item in bidirectional_data:\n",
    "    source_encodings = tokenizer(item['source'], max_length=64, truncation=True, padding=\"max_length\", return_tensors=\"pt\")\n",
    "    with tokenizer.as_target_tokenizer():\n",
    "        target_encodings = tokenizer(item['target'], max_length=64, truncation=True, padding=\"max_length\", return_tensors=\"pt\")\n",
    "    tokenized_data.append({\n",
    "        \"input_ids\": source_encodings[\"input_ids\"],\n",
    "        \"attention_mask\": source_encodings[\"attention_mask\"],\n",
    "        \"labels\": target_encodings[\"input_ids\"]\n",
    "    })\n"
   ]
  },
  {
   "cell_type": "code",
   "execution_count": 6,
   "id": "fca29a6b",
   "metadata": {},
   "outputs": [
    {
     "data": {
      "text/plain": [
       "Dataset({\n",
       "    features: ['input_ids', 'attention_mask', 'labels'],\n",
       "    num_rows: 193902\n",
       "})"
      ]
     },
     "execution_count": 6,
     "metadata": {},
     "output_type": "execute_result"
    }
   ],
   "source": [
    "from datasets import Dataset, DatasetDict # Hugging Face에서 제공하는 데이터셋 라이브러리\n",
    "import pandas as pd\n",
    "\n",
    "# Modify the DataFrame creation code\n",
    "formatted_data_df = pd.DataFrame([{\n",
    "    \"input_ids\": np.array(fd[\"input_ids\"].numpy().tolist()[0], dtype=np.uint16),\n",
    "    \"attention_mask\": np.array(fd[\"attention_mask\"].numpy().tolist()[0], dtype=np.uint8),\n",
    "    \"labels\": np.array(fd[\"labels\"].numpy().tolist()[0], dtype=np.uint16)\n",
    "} for fd in tokenized_data])\n",
    "\n",
    "## 데이터를 Dataset 형식으로 변환\n",
    "train_dataset = Dataset.from_pandas(formatted_data_df)\n",
    "\n",
    "## 데이터셋 확인\n",
    "train_dataset"
   ]
  },
  {
   "cell_type": "code",
   "execution_count": 7,
   "id": "6c8901e8",
   "metadata": {},
   "outputs": [],
   "source": [
    "## 학습 데이터셋을 학습 및 평가용으로 분리 (예: 90% 학습, 10% 평가)\n",
    "train_test_split = train_dataset.train_test_split(test_size=0.1)\n",
    "dataset_dict = DatasetDict({\n",
    "    'train': train_test_split['train'],\n",
    "    'test': train_test_split['test']\n",
    "})"
   ]
  },
  {
   "cell_type": "code",
   "execution_count": 8,
   "id": "fc9e7702",
   "metadata": {},
   "outputs": [],
   "source": [
    "# 트랜스포머에서 Seq2Seq 학습 모듈 호출\n",
    "from transformers import Seq2SeqTrainer, Seq2SeqTrainingArguments\n",
    "\n",
    "## 학습 매개변수 설정\n",
    "training_args = Seq2SeqTrainingArguments(\n",
    "    output_dir=\"checkpoints\",                           ## 체크포인트 디렉토리\n",
    "    evaluation_strategy=\"epoch\",                         ## 평가 전략 = 에포크\n",
    "    learning_rate=2e-5,                                  ## 학습률 = 2e-5\n",
    "    per_device_train_batch_size=32,                      ## 배치 사이즈\n",
    "    weight_decay=0.01,                                   ## 가중치 감소율\n",
    "    save_total_limit=3,                                  ## 저장할 최대 체크포인트 수\n",
    "    num_train_epochs=3,                                  ## 에포크 수\n",
    "    predict_with_generate=True,                          ## '생성'을 사용한 예측 활성화\n",
    ")"
   ]
  },
  {
   "cell_type": "code",
   "execution_count": 10,
   "id": "ca8d7840",
   "metadata": {
    "scrolled": true
   },
   "outputs": [
    {
     "name": "stdout",
     "output_type": "stream",
     "text": [
      "huggingface/tokenizers: The current process just got forked, after parallelism has already been used. Disabling parallelism to avoid deadlocks...\n",
      "To disable this warning, you can either:\n",
      "\t- Avoid using `tokenizers` before the fork if possible\n",
      "\t- Explicitly set the environment variable TOKENIZERS_PARALLELISM=(true | false)\n",
      "huggingface/tokenizers: The current process just got forked, after parallelism has already been used. Disabling parallelism to avoid deadlocks...\n",
      "To disable this warning, you can either:\n",
      "\t- Avoid using `tokenizers` before the fork if possible\n",
      "\t- Explicitly set the environment variable TOKENIZERS_PARALLELISM=(true | false)\n",
      "huggingface/tokenizers: The current process just got forked, after parallelism has already been used. Disabling parallelism to avoid deadlocks...\n",
      "To disable this warning, you can either:\n",
      "\t- Avoid using `tokenizers` before the fork if possible\n",
      "\t- Explicitly set the environment variable TOKENIZERS_PARALLELISM=(true | false)\n",
      "huggingface/tokenizers: The current process just got forked, after parallelism has already been used. Disabling parallelism to avoid deadlocks...\n",
      "To disable this warning, you can either:\n",
      "\t- Avoid using `tokenizers` before the fork if possible\n",
      "\t- Explicitly set the environment variable TOKENIZERS_PARALLELISM=(true | false)\n"
     ]
    },
    {
     "name": "stderr",
     "output_type": "stream",
     "text": [
      "\u001b[34m\u001b[1mwandb\u001b[0m: W&B API key is configured. Use \u001b[1m`wandb login --relogin`\u001b[0m to force relogin\n",
      "\u001b[34m\u001b[1mwandb\u001b[0m: \u001b[33mWARNING\u001b[0m If you're specifying your api key in code, ensure this code is not shared publicly.\n",
      "\u001b[34m\u001b[1mwandb\u001b[0m: \u001b[33mWARNING\u001b[0m Consider setting the WANDB_API_KEY environment variable, or running `wandb login` from the command line.\n",
      "\u001b[34m\u001b[1mwandb\u001b[0m: Appending key for api.wandb.ai to your netrc file: /Users/jeeho/.netrc\n",
      "/Users/jeeho/anaconda3/lib/python3.11/site-packages/accelerate/accelerator.py:444: FutureWarning: Passing the following arguments to `Accelerator` is deprecated and will be removed in version 1.0 of Accelerate: dict_keys(['dispatch_batches']). Please pass an `accelerate.DataLoaderConfiguration` instead: \n",
      "dataloader_config = DataLoaderConfiguration(dispatch_batches=None)\n",
      "  warnings.warn(\n",
      "You're using a PreTrainedTokenizerFast tokenizer. Please note that with a fast tokenizer, using the `__call__` method is faster than using a method to encode the text followed by a call to the `pad` method to get a padded encoding.\n"
     ]
    },
    {
     "data": {
      "text/html": [
       "\n",
       "    <div>\n",
       "      \n",
       "      <progress value='16362' max='16362' style='width:300px; height:20px; vertical-align: middle;'></progress>\n",
       "      [16362/16362 5:46:33, Epoch 3/3]\n",
       "    </div>\n",
       "    <table border=\"1\" class=\"dataframe\">\n",
       "  <thead>\n",
       " <tr style=\"text-align: left;\">\n",
       "      <th>Epoch</th>\n",
       "      <th>Training Loss</th>\n",
       "      <th>Validation Loss</th>\n",
       "    </tr>\n",
       "  </thead>\n",
       "  <tbody>\n",
       "    <tr>\n",
       "      <td>1</td>\n",
       "      <td>0.097400</td>\n",
       "      <td>0.089637</td>\n",
       "    </tr>\n",
       "    <tr>\n",
       "      <td>2</td>\n",
       "      <td>0.081700</td>\n",
       "      <td>0.082317</td>\n",
       "    </tr>\n",
       "    <tr>\n",
       "      <td>3</td>\n",
       "      <td>0.075100</td>\n",
       "      <td>0.079814</td>\n",
       "    </tr>\n",
       "  </tbody>\n",
       "</table><p>"
      ],
      "text/plain": [
       "<IPython.core.display.HTML object>"
      ]
     },
     "metadata": {},
     "output_type": "display_data"
    }
   ],
   "source": [
    "import wandb # 학습 모니터링이 가능한 웹 서비스 (프로젝트를 미리 생성하지 않아 의미는 없었음)\n",
    "\n",
    "## API 키를 직접 입력\n",
    "\n",
    "wandb.login(key=\"6313dd1643dd4fbb403afacbf8b41105d42d6d1f\")\n",
    "\n",
    "## 학습 준비\n",
    "trainer = Seq2SeqTrainer(\n",
    "    model=model,                         ## 학습할 모델\n",
    "    args=training_args,                  ## 학습 설정\n",
    "    train_dataset=dataset_dict['train'], ## 학습 데이터셋\n",
    "    eval_dataset=dataset_dict['test'],   ## 평가 데이터셋\n",
    "    tokenizer=tokenizer\n",
    ")\n",
    "\n",
    "## 학습 시작\n",
    "trainer.train()\n",
    "\n",
    "## 학습 종료\n",
    "wandb.finish()"
   ]
  }
 ],
 "metadata": {
  "kernelspec": {
   "display_name": "Python 3 (ipykernel)",
   "language": "python",
   "name": "python3"
  },
  "language_info": {
   "codemirror_mode": {
    "name": "ipython",
    "version": 3
   },
   "file_extension": ".py",
   "mimetype": "text/x-python",
   "name": "python",
   "nbconvert_exporter": "python",
   "pygments_lexer": "ipython3",
   "version": "3.11.5"
  }
 },
 "nbformat": 4,
 "nbformat_minor": 5
}
