{
 "cells": [
  {
   "cell_type": "markdown",
   "metadata": {
    "id": "p7SHe3gxDcDh"
   },
   "source": [
    "# Seq2Seq 모델링"
   ]
  },
  {
   "cell_type": "markdown",
   "metadata": {},
   "source": [
    "### 1. 필요 모듈 및 데이터 로드"
   ]
  },
  {
   "cell_type": "code",
   "execution_count": null,
   "metadata": {
    "colab": {
     "base_uri": "https://localhost:8080/"
    },
    "id": "X4v3SXNSg353",
    "outputId": "d7e1a5bc-4ddd-4ede-e95d-d7eef1afb425"
   },
   "outputs": [
    {
     "name": "stdout",
     "output_type": "stream",
     "text": [
      "Drive already mounted at /content/drive; to attempt to forcibly remount, call drive.mount(\"/content/drive\", force_remount=True).\n"
     ]
    }
   ],
   "source": [
    "import tensorflow as tf\n",
    "import pandas as pd\n",
    "import numpy as np\n",
    "from sklearn.model_selection import train_test_split\n",
    "from tensorflow.keras.preprocessing.text import Tokenizer\n",
    "from tensorflow.keras.preprocessing.sequence import pad_sequences\n",
    "from tensorflow.keras.models import Model\n",
    "from tensorflow.keras.layers import Input, LSTM, Embedding, Dense, Attention, Concatenate, Dropout\n",
    "from tensorflow.keras.optimizers import Adam\n",
    "from tensorflow.keras.losses import SparseCategoricalCrossentropy\n",
    "from tensorflow.keras.callbacks import ModelCheckpoint, EarlyStopping\n",
    "import matplotlib.pyplot as plt\n",
    "from google.colab import drive\n",
    "\n",
    "# Google Drive 연결\n",
    "drive.mount('/content/drive')\n",
    "\n",
    "# 데이터 로드\n",
    "df = pd.read_csv('/content/drive/MyDrive/data_따라말하기.csv')\n",
    "\n",
    "# 특수 토큰 추가\n",
    "dialect_token = \"[방언]\"\n",
    "standard_token = \"[표준]\"\n",
    "start_token = '<start>'\n",
    "end_token = '<end>'"
   ]
  },
  {
   "cell_type": "markdown",
   "metadata": {},
   "source": [
    "### 2. 데이터 전처리"
   ]
  },
  {
   "cell_type": "code",
   "execution_count": null,
   "metadata": {
    "id": "EO1G9loxg-hH"
   },
   "outputs": [],
   "source": [
    "# 양방향 데이터 리스트 생성\n",
    "bidirectional_data = []\n",
    "\n",
    "for dialect, standard in zip(df['dialect'], df['standard']):\n",
    "    # 방언 -> 표준어\n",
    "    bidirectional_data.append({\n",
    "        \"source\": dialect_token + \" \" + start_token + \" \" + dialect + \" \" + end_token,\n",
    "        \"target\": start_token + \" \" + standard + \" \" + end_token\n",
    "    })\n",
    "    # 표준어 -> 방언\n",
    "    bidirectional_data.append({\n",
    "        \"source\": standard_token + \" \" + start_token + \" \" + standard + \" \" + end_token,\n",
    "        \"target\": start_token + \" \" + dialect + \" \" + end_token\n",
    "    })\n",
    "\n",
    "# 토크나이저 생성\n",
    "tokenizer = Tokenizer(filters='')\n",
    "tokenizer.fit_on_texts([item['source'] for item in bidirectional_data] + [item['target'] for item in bidirectional_data])\n",
    "\n",
    "# 단어 사전 크기\n",
    "vocab_size = len(tokenizer.word_index) + 1"
   ]
  },
  {
   "cell_type": "code",
   "execution_count": null,
   "metadata": {
    "id": "GTG--pq1iom3"
   },
   "outputs": [],
   "source": [
    "# 정수 시퀀스로 변환\n",
    "source_seqs = tokenizer.texts_to_sequences([item['source'] for item in bidirectional_data])\n",
    "target_seqs = tokenizer.texts_to_sequences([item['target'] for item in bidirectional_data])\n",
    "\n",
    "# 패딩\n",
    "max_seq_length = 64\n",
    "source_seqs = pad_sequences(source_seqs, maxlen=max_seq_length, padding='post')\n",
    "target_seqs = pad_sequences(target_seqs, maxlen=max_seq_length, padding='post')\n"
   ]
  },
  {
   "cell_type": "code",
   "execution_count": null,
   "metadata": {
    "id": "sP7tsV59hEyR"
   },
   "outputs": [],
   "source": [
    "# 데이터 분할\n",
    "train_source, val_source, train_target, val_target = train_test_split(\n",
    "    source_seqs, target_seqs, test_size=0.1, random_state=42\n",
    ")"
   ]
  },
  {
   "cell_type": "markdown",
   "metadata": {},
   "source": [
    "### 3. Seq2Seq 모델 정의"
   ]
  },
  {
   "cell_type": "code",
   "execution_count": null,
   "metadata": {
    "id": "xspg33dchH63"
   },
   "outputs": [],
   "source": [
    "# Seq2Seq 모델 정의\n",
    "embedding_dim = 256\n",
    "hidden_units = 512\n",
    "\n",
    "# 인코더 정의\n",
    "encoder_inputs = Input(shape=(max_seq_length,), name='encoder_input')\n",
    "encoder_embedding = Embedding(vocab_size, embedding_dim)(encoder_inputs)\n",
    "encoder_outputs, state_h, state_c = LSTM(hidden_units, return_state=True, return_sequences=True)(encoder_embedding)\n",
    "encoder_states = [state_h, state_c]\n",
    "\n",
    "# 디코더 정의\n",
    "decoder_inputs = Input(shape=(max_seq_length,), name='decoder_input')\n",
    "decoder_embedding = Embedding(vocab_size, embedding_dim)(decoder_inputs)\n",
    "decoder_lstm = LSTM(hidden_units, return_sequences=True, return_state=True)\n",
    "decoder_outputs, _, _ = decoder_lstm(decoder_embedding, initial_state=encoder_states)\n",
    "\n",
    "# 어텐션 메커니즘 정의\n",
    "attention = Attention()([decoder_outputs, encoder_outputs])\n",
    "decoder_concat_input = Concatenate(axis=-1)([decoder_outputs, attention])\n",
    "\n",
    "# 드롭아웃 추가\n",
    "decoder_concat_input = Dropout(0.5)(decoder_concat_input)\n",
    "\n",
    "# 출력층 정의\n",
    "decoder_dense = Dense(vocab_size, activation='softmax')\n",
    "decoder_outputs = decoder_dense(decoder_concat_input)\n"
   ]
  },
  {
   "cell_type": "code",
   "execution_count": null,
   "metadata": {
    "colab": {
     "base_uri": "https://localhost:8080/"
    },
    "id": "Ro26BDF9hN9U",
    "outputId": "5fbe473c-ba9d-4ba0-b0ef-99b148559656"
   },
   "outputs": [
    {
     "name": "stdout",
     "output_type": "stream",
     "text": [
      "Model: \"model_4\"\n",
      "__________________________________________________________________________________________________\n",
      " Layer (type)                Output Shape                 Param #   Connected to                  \n",
      "==================================================================================================\n",
      " encoder_input (InputLayer)  [(None, 64)]                 0         []                            \n",
      "                                                                                                  \n",
      " decoder_input (InputLayer)  [(None, 64)]                 0         []                            \n",
      "                                                                                                  \n",
      " embedding_8 (Embedding)     (None, 64, 256)              1186560   ['encoder_input[0][0]']       \n",
      "                                                          0                                       \n",
      "                                                                                                  \n",
      " embedding_9 (Embedding)     (None, 64, 256)              1186560   ['decoder_input[0][0]']       \n",
      "                                                          0                                       \n",
      "                                                                                                  \n",
      " lstm_8 (LSTM)               [(None, 64, 512),            1574912   ['embedding_8[0][0]']         \n",
      "                              (None, 512),                                                        \n",
      "                              (None, 512)]                                                        \n",
      "                                                                                                  \n",
      " lstm_9 (LSTM)               [(None, 64, 512),            1574912   ['embedding_9[0][0]',         \n",
      "                              (None, 512),                           'lstm_8[0][1]',              \n",
      "                              (None, 512)]                           'lstm_8[0][2]']              \n",
      "                                                                                                  \n",
      " attention_4 (Attention)     (None, 64, 512)              0         ['lstm_9[0][0]',              \n",
      "                                                                     'lstm_8[0][0]']              \n",
      "                                                                                                  \n",
      " concatenate_4 (Concatenate  (None, 64, 1024)             0         ['lstm_9[0][0]',              \n",
      " )                                                                   'attention_4[0][0]']         \n",
      "                                                                                                  \n",
      " dropout_4 (Dropout)         (None, 64, 1024)             0         ['concatenate_4[0][0]']       \n",
      "                                                                                                  \n",
      " dense_4 (Dense)             (None, 64, 46350)            4750875   ['dropout_4[0][0]']           \n",
      "                                                          0                                       \n",
      "                                                                                                  \n",
      "==================================================================================================\n",
      "Total params: 74389774 (283.77 MB)\n",
      "Trainable params: 74389774 (283.77 MB)\n",
      "Non-trainable params: 0 (0.00 Byte)\n",
      "__________________________________________________________________________________________________\n"
     ]
    }
   ],
   "source": [
    "# 모델 정의\n",
    "model = Model([encoder_inputs, decoder_inputs], decoder_outputs)\n",
    "\n",
    "# 모델 컴파일\n",
    "model.compile(optimizer=Adam(learning_rate=2e-5), loss='sparse_categorical_crossentropy')\n",
    "\n",
    "model.summary()\n"
   ]
  },
  {
   "cell_type": "code",
   "execution_count": null,
   "metadata": {
    "colab": {
     "base_uri": "https://localhost:8080/",
     "height": 1000
    },
    "id": "XoYGNk_ri79T",
    "outputId": "6a64d5f8-3406-43c4-dfcd-63d857b05a30"
   },
   "outputs": [
    {
     "name": "stdout",
     "output_type": "stream",
     "text": [
      "Epoch 1/50\n",
      "5454/5454 [==============================] - 562s 103ms/step - loss: 1.1425 - val_loss: 1.0628\n",
      "Epoch 2/50\n",
      "5454/5454 [==============================] - 562s 103ms/step - loss: 0.9712 - val_loss: 0.8876\n",
      "Epoch 3/50\n",
      "5454/5454 [==============================] - 562s 103ms/step - loss: 0.8017 - val_loss: 0.7248\n",
      "Epoch 4/50\n",
      "5454/5454 [==============================] - 559s 102ms/step - loss: 0.6516 - val_loss: 0.5858\n",
      "Epoch 5/50\n",
      "5454/5454 [==============================] - 562s 103ms/step - loss: 0.5310 - val_loss: 0.4781\n",
      "Epoch 6/50\n",
      "5454/5454 [==============================] - 563s 103ms/step - loss: 0.4401 - val_loss: 0.4015\n",
      "Epoch 7/50\n",
      "5454/5454 [==============================] - 563s 103ms/step - loss: 0.3734 - val_loss: 0.3452\n",
      "Epoch 8/50\n",
      "5454/5454 [==============================] - 563s 103ms/step - loss: 0.3232 - val_loss: 0.3027\n",
      "Epoch 9/50\n",
      "5454/5454 [==============================] - 563s 103ms/step - loss: 0.2846 - val_loss: 0.2695\n",
      "Epoch 10/50\n",
      "5454/5454 [==============================] - 563s 103ms/step - loss: 0.2538 - val_loss: 0.2444\n",
      "Epoch 11/50\n",
      "5454/5454 [==============================] - 563s 103ms/step - loss: 0.2285 - val_loss: 0.2226\n",
      "Epoch 12/50\n",
      "5454/5454 [==============================] - 563s 103ms/step - loss: 0.2076 - val_loss: 0.2041\n",
      "Epoch 13/50\n",
      "5454/5454 [==============================] - 563s 103ms/step - loss: 0.1899 - val_loss: 0.1894\n",
      "Epoch 14/50\n",
      "5454/5454 [==============================] - 563s 103ms/step - loss: 0.1749 - val_loss: 0.1775\n",
      "Epoch 15/50\n",
      "5454/5454 [==============================] - 563s 103ms/step - loss: 0.1621 - val_loss: 0.1658\n",
      "Epoch 16/50\n",
      "5454/5454 [==============================] - 563s 103ms/step - loss: 0.1510 - val_loss: 0.1561\n",
      "Epoch 17/50\n",
      "5454/5454 [==============================] - 563s 103ms/step - loss: 0.1413 - val_loss: 0.1483\n",
      "Epoch 18/50\n",
      "5454/5454 [==============================] - 563s 103ms/step - loss: 0.1329 - val_loss: 0.1415\n",
      "Epoch 19/50\n",
      "5454/5454 [==============================] - 563s 103ms/step - loss: 0.1254 - val_loss: 0.1351\n",
      "Epoch 20/50\n",
      "5454/5454 [==============================] - 565s 104ms/step - loss: 0.1187 - val_loss: 0.1290\n",
      "Epoch 21/50\n",
      "5454/5454 [==============================] - 568s 104ms/step - loss: 0.1127 - val_loss: 0.1247\n",
      "Epoch 22/50\n",
      "5454/5454 [==============================] - 564s 103ms/step - loss: 0.1073 - val_loss: 0.1195\n",
      "Epoch 23/50\n",
      "5454/5454 [==============================] - 564s 103ms/step - loss: 0.1024 - val_loss: 0.1155\n",
      "Epoch 24/50\n",
      "5454/5454 [==============================] - 564s 103ms/step - loss: 0.0978 - val_loss: 0.1114\n",
      "Epoch 25/50\n",
      "5454/5454 [==============================] - 563s 103ms/step - loss: 0.0937 - val_loss: 0.1078\n",
      "Epoch 26/50\n",
      "5454/5454 [==============================] - 564s 103ms/step - loss: 0.0899 - val_loss: 0.1047\n",
      "Epoch 27/50\n",
      "5454/5454 [==============================] - 562s 103ms/step - loss: 0.0863 - val_loss: 0.1018\n",
      "Epoch 28/50\n",
      "5454/5454 [==============================] - 562s 103ms/step - loss: 0.0830 - val_loss: 0.0988\n",
      "Epoch 29/50\n",
      "5454/5454 [==============================] - 562s 103ms/step - loss: 0.0800 - val_loss: 0.0964\n",
      "Epoch 30/50\n",
      "5454/5454 [==============================] - 562s 103ms/step - loss: 0.0771 - val_loss: 0.0946\n",
      "Epoch 31/50\n",
      "5454/5454 [==============================] - 562s 103ms/step - loss: 0.0745 - val_loss: 0.0917\n",
      "Epoch 32/50\n",
      "5454/5454 [==============================] - 562s 103ms/step - loss: 0.0720 - val_loss: 0.0895\n",
      "Epoch 33/50\n",
      "5454/5454 [==============================] - 562s 103ms/step - loss: 0.0696 - val_loss: 0.0875\n",
      "Epoch 34/50\n",
      " 718/5454 [==>...........................] - ETA: 7:48 - loss: 0.0666"
     ]
    },
    {
     "ename": "KeyboardInterrupt",
     "evalue": "",
     "output_type": "error",
     "traceback": [
      "\u001b[0;31m---------------------------------------------------------------------------\u001b[0m",
      "\u001b[0;31mKeyboardInterrupt\u001b[0m                         Traceback (most recent call last)",
      "\u001b[0;32m<ipython-input-46-dbf971b10dda>\u001b[0m in \u001b[0;36m<cell line: 12>\u001b[0;34m()\u001b[0m\n\u001b[1;32m     10\u001b[0m \u001b[0mbatch_size\u001b[0m \u001b[0;34m=\u001b[0m \u001b[0;36m32\u001b[0m\u001b[0;34m\u001b[0m\u001b[0;34m\u001b[0m\u001b[0m\n\u001b[1;32m     11\u001b[0m \u001b[0mepochs\u001b[0m \u001b[0;34m=\u001b[0m \u001b[0;36m50\u001b[0m\u001b[0;34m\u001b[0m\u001b[0;34m\u001b[0m\u001b[0m\n\u001b[0;32m---> 12\u001b[0;31m history = model.fit(\n\u001b[0m\u001b[1;32m     13\u001b[0m     \u001b[0;34m[\u001b[0m\u001b[0mtrain_source\u001b[0m\u001b[0;34m,\u001b[0m \u001b[0mtrain_target\u001b[0m\u001b[0;34m]\u001b[0m\u001b[0;34m,\u001b[0m\u001b[0;34m\u001b[0m\u001b[0;34m\u001b[0m\u001b[0m\n\u001b[1;32m     14\u001b[0m     \u001b[0mtrain_target\u001b[0m\u001b[0;34m,\u001b[0m\u001b[0;34m\u001b[0m\u001b[0;34m\u001b[0m\u001b[0m\n",
      "\u001b[0;32m/usr/local/lib/python3.10/dist-packages/keras/src/utils/traceback_utils.py\u001b[0m in \u001b[0;36merror_handler\u001b[0;34m(*args, **kwargs)\u001b[0m\n\u001b[1;32m     63\u001b[0m         \u001b[0mfiltered_tb\u001b[0m \u001b[0;34m=\u001b[0m \u001b[0;32mNone\u001b[0m\u001b[0;34m\u001b[0m\u001b[0;34m\u001b[0m\u001b[0m\n\u001b[1;32m     64\u001b[0m         \u001b[0;32mtry\u001b[0m\u001b[0;34m:\u001b[0m\u001b[0;34m\u001b[0m\u001b[0;34m\u001b[0m\u001b[0m\n\u001b[0;32m---> 65\u001b[0;31m             \u001b[0;32mreturn\u001b[0m \u001b[0mfn\u001b[0m\u001b[0;34m(\u001b[0m\u001b[0;34m*\u001b[0m\u001b[0margs\u001b[0m\u001b[0;34m,\u001b[0m \u001b[0;34m**\u001b[0m\u001b[0mkwargs\u001b[0m\u001b[0;34m)\u001b[0m\u001b[0;34m\u001b[0m\u001b[0;34m\u001b[0m\u001b[0m\n\u001b[0m\u001b[1;32m     66\u001b[0m         \u001b[0;32mexcept\u001b[0m \u001b[0mException\u001b[0m \u001b[0;32mas\u001b[0m \u001b[0me\u001b[0m\u001b[0;34m:\u001b[0m\u001b[0;34m\u001b[0m\u001b[0;34m\u001b[0m\u001b[0m\n\u001b[1;32m     67\u001b[0m             \u001b[0mfiltered_tb\u001b[0m \u001b[0;34m=\u001b[0m \u001b[0m_process_traceback_frames\u001b[0m\u001b[0;34m(\u001b[0m\u001b[0me\u001b[0m\u001b[0;34m.\u001b[0m\u001b[0m__traceback__\u001b[0m\u001b[0;34m)\u001b[0m\u001b[0;34m\u001b[0m\u001b[0;34m\u001b[0m\u001b[0m\n",
      "\u001b[0;32m/usr/local/lib/python3.10/dist-packages/keras/src/engine/training.py\u001b[0m in \u001b[0;36mfit\u001b[0;34m(self, x, y, batch_size, epochs, verbose, callbacks, validation_split, validation_data, shuffle, class_weight, sample_weight, initial_epoch, steps_per_epoch, validation_steps, validation_batch_size, validation_freq, max_queue_size, workers, use_multiprocessing)\u001b[0m\n\u001b[1;32m   1805\u001b[0m                         ):\n\u001b[1;32m   1806\u001b[0m                             \u001b[0mcallbacks\u001b[0m\u001b[0;34m.\u001b[0m\u001b[0mon_train_batch_begin\u001b[0m\u001b[0;34m(\u001b[0m\u001b[0mstep\u001b[0m\u001b[0;34m)\u001b[0m\u001b[0;34m\u001b[0m\u001b[0;34m\u001b[0m\u001b[0m\n\u001b[0;32m-> 1807\u001b[0;31m                             \u001b[0mtmp_logs\u001b[0m \u001b[0;34m=\u001b[0m \u001b[0mself\u001b[0m\u001b[0;34m.\u001b[0m\u001b[0mtrain_function\u001b[0m\u001b[0;34m(\u001b[0m\u001b[0miterator\u001b[0m\u001b[0;34m)\u001b[0m\u001b[0;34m\u001b[0m\u001b[0;34m\u001b[0m\u001b[0m\n\u001b[0m\u001b[1;32m   1808\u001b[0m                             \u001b[0;32mif\u001b[0m \u001b[0mdata_handler\u001b[0m\u001b[0;34m.\u001b[0m\u001b[0mshould_sync\u001b[0m\u001b[0;34m:\u001b[0m\u001b[0;34m\u001b[0m\u001b[0;34m\u001b[0m\u001b[0m\n\u001b[1;32m   1809\u001b[0m                                 \u001b[0mcontext\u001b[0m\u001b[0;34m.\u001b[0m\u001b[0masync_wait\u001b[0m\u001b[0;34m(\u001b[0m\u001b[0;34m)\u001b[0m\u001b[0;34m\u001b[0m\u001b[0;34m\u001b[0m\u001b[0m\n",
      "\u001b[0;32m/usr/local/lib/python3.10/dist-packages/tensorflow/python/util/traceback_utils.py\u001b[0m in \u001b[0;36merror_handler\u001b[0;34m(*args, **kwargs)\u001b[0m\n\u001b[1;32m    148\u001b[0m     \u001b[0mfiltered_tb\u001b[0m \u001b[0;34m=\u001b[0m \u001b[0;32mNone\u001b[0m\u001b[0;34m\u001b[0m\u001b[0;34m\u001b[0m\u001b[0m\n\u001b[1;32m    149\u001b[0m     \u001b[0;32mtry\u001b[0m\u001b[0;34m:\u001b[0m\u001b[0;34m\u001b[0m\u001b[0;34m\u001b[0m\u001b[0m\n\u001b[0;32m--> 150\u001b[0;31m       \u001b[0;32mreturn\u001b[0m \u001b[0mfn\u001b[0m\u001b[0;34m(\u001b[0m\u001b[0;34m*\u001b[0m\u001b[0margs\u001b[0m\u001b[0;34m,\u001b[0m \u001b[0;34m**\u001b[0m\u001b[0mkwargs\u001b[0m\u001b[0;34m)\u001b[0m\u001b[0;34m\u001b[0m\u001b[0;34m\u001b[0m\u001b[0m\n\u001b[0m\u001b[1;32m    151\u001b[0m     \u001b[0;32mexcept\u001b[0m \u001b[0mException\u001b[0m \u001b[0;32mas\u001b[0m \u001b[0me\u001b[0m\u001b[0;34m:\u001b[0m\u001b[0;34m\u001b[0m\u001b[0;34m\u001b[0m\u001b[0m\n\u001b[1;32m    152\u001b[0m       \u001b[0mfiltered_tb\u001b[0m \u001b[0;34m=\u001b[0m \u001b[0m_process_traceback_frames\u001b[0m\u001b[0;34m(\u001b[0m\u001b[0me\u001b[0m\u001b[0;34m.\u001b[0m\u001b[0m__traceback__\u001b[0m\u001b[0;34m)\u001b[0m\u001b[0;34m\u001b[0m\u001b[0;34m\u001b[0m\u001b[0m\n",
      "\u001b[0;32m/usr/local/lib/python3.10/dist-packages/tensorflow/python/eager/polymorphic_function/polymorphic_function.py\u001b[0m in \u001b[0;36m__call__\u001b[0;34m(self, *args, **kwds)\u001b[0m\n\u001b[1;32m    830\u001b[0m \u001b[0;34m\u001b[0m\u001b[0m\n\u001b[1;32m    831\u001b[0m       \u001b[0;32mwith\u001b[0m \u001b[0mOptionalXlaContext\u001b[0m\u001b[0;34m(\u001b[0m\u001b[0mself\u001b[0m\u001b[0;34m.\u001b[0m\u001b[0m_jit_compile\u001b[0m\u001b[0;34m)\u001b[0m\u001b[0;34m:\u001b[0m\u001b[0;34m\u001b[0m\u001b[0;34m\u001b[0m\u001b[0m\n\u001b[0;32m--> 832\u001b[0;31m         \u001b[0mresult\u001b[0m \u001b[0;34m=\u001b[0m \u001b[0mself\u001b[0m\u001b[0;34m.\u001b[0m\u001b[0m_call\u001b[0m\u001b[0;34m(\u001b[0m\u001b[0;34m*\u001b[0m\u001b[0margs\u001b[0m\u001b[0;34m,\u001b[0m \u001b[0;34m**\u001b[0m\u001b[0mkwds\u001b[0m\u001b[0;34m)\u001b[0m\u001b[0;34m\u001b[0m\u001b[0;34m\u001b[0m\u001b[0m\n\u001b[0m\u001b[1;32m    833\u001b[0m \u001b[0;34m\u001b[0m\u001b[0m\n\u001b[1;32m    834\u001b[0m       \u001b[0mnew_tracing_count\u001b[0m \u001b[0;34m=\u001b[0m \u001b[0mself\u001b[0m\u001b[0;34m.\u001b[0m\u001b[0mexperimental_get_tracing_count\u001b[0m\u001b[0;34m(\u001b[0m\u001b[0;34m)\u001b[0m\u001b[0;34m\u001b[0m\u001b[0;34m\u001b[0m\u001b[0m\n",
      "\u001b[0;32m/usr/local/lib/python3.10/dist-packages/tensorflow/python/eager/polymorphic_function/polymorphic_function.py\u001b[0m in \u001b[0;36m_call\u001b[0;34m(self, *args, **kwds)\u001b[0m\n\u001b[1;32m    866\u001b[0m       \u001b[0;31m# In this case we have created variables on the first call, so we run the\u001b[0m\u001b[0;34m\u001b[0m\u001b[0;34m\u001b[0m\u001b[0m\n\u001b[1;32m    867\u001b[0m       \u001b[0;31m# defunned version which is guaranteed to never create variables.\u001b[0m\u001b[0;34m\u001b[0m\u001b[0;34m\u001b[0m\u001b[0m\n\u001b[0;32m--> 868\u001b[0;31m       return tracing_compilation.call_function(\n\u001b[0m\u001b[1;32m    869\u001b[0m           \u001b[0margs\u001b[0m\u001b[0;34m,\u001b[0m \u001b[0mkwds\u001b[0m\u001b[0;34m,\u001b[0m \u001b[0mself\u001b[0m\u001b[0;34m.\u001b[0m\u001b[0m_no_variable_creation_config\u001b[0m\u001b[0;34m\u001b[0m\u001b[0;34m\u001b[0m\u001b[0m\n\u001b[1;32m    870\u001b[0m       )\n",
      "\u001b[0;32m/usr/local/lib/python3.10/dist-packages/tensorflow/python/eager/polymorphic_function/tracing_compilation.py\u001b[0m in \u001b[0;36mcall_function\u001b[0;34m(args, kwargs, tracing_options)\u001b[0m\n\u001b[1;32m    137\u001b[0m   \u001b[0mbound_args\u001b[0m \u001b[0;34m=\u001b[0m \u001b[0mfunction\u001b[0m\u001b[0;34m.\u001b[0m\u001b[0mfunction_type\u001b[0m\u001b[0;34m.\u001b[0m\u001b[0mbind\u001b[0m\u001b[0;34m(\u001b[0m\u001b[0;34m*\u001b[0m\u001b[0margs\u001b[0m\u001b[0;34m,\u001b[0m \u001b[0;34m**\u001b[0m\u001b[0mkwargs\u001b[0m\u001b[0;34m)\u001b[0m\u001b[0;34m\u001b[0m\u001b[0;34m\u001b[0m\u001b[0m\n\u001b[1;32m    138\u001b[0m   \u001b[0mflat_inputs\u001b[0m \u001b[0;34m=\u001b[0m \u001b[0mfunction\u001b[0m\u001b[0;34m.\u001b[0m\u001b[0mfunction_type\u001b[0m\u001b[0;34m.\u001b[0m\u001b[0munpack_inputs\u001b[0m\u001b[0;34m(\u001b[0m\u001b[0mbound_args\u001b[0m\u001b[0;34m)\u001b[0m\u001b[0;34m\u001b[0m\u001b[0;34m\u001b[0m\u001b[0m\n\u001b[0;32m--> 139\u001b[0;31m   return function._call_flat(  # pylint: disable=protected-access\n\u001b[0m\u001b[1;32m    140\u001b[0m       \u001b[0mflat_inputs\u001b[0m\u001b[0;34m,\u001b[0m \u001b[0mcaptured_inputs\u001b[0m\u001b[0;34m=\u001b[0m\u001b[0mfunction\u001b[0m\u001b[0;34m.\u001b[0m\u001b[0mcaptured_inputs\u001b[0m\u001b[0;34m\u001b[0m\u001b[0;34m\u001b[0m\u001b[0m\n\u001b[1;32m    141\u001b[0m   )\n",
      "\u001b[0;32m/usr/local/lib/python3.10/dist-packages/tensorflow/python/eager/polymorphic_function/concrete_function.py\u001b[0m in \u001b[0;36m_call_flat\u001b[0;34m(self, tensor_inputs, captured_inputs)\u001b[0m\n\u001b[1;32m   1321\u001b[0m         and executing_eagerly):\n\u001b[1;32m   1322\u001b[0m       \u001b[0;31m# No tape is watching; skip to running the function.\u001b[0m\u001b[0;34m\u001b[0m\u001b[0;34m\u001b[0m\u001b[0m\n\u001b[0;32m-> 1323\u001b[0;31m       \u001b[0;32mreturn\u001b[0m \u001b[0mself\u001b[0m\u001b[0;34m.\u001b[0m\u001b[0m_inference_function\u001b[0m\u001b[0;34m.\u001b[0m\u001b[0mcall_preflattened\u001b[0m\u001b[0;34m(\u001b[0m\u001b[0margs\u001b[0m\u001b[0;34m)\u001b[0m\u001b[0;34m\u001b[0m\u001b[0;34m\u001b[0m\u001b[0m\n\u001b[0m\u001b[1;32m   1324\u001b[0m     forward_backward = self._select_forward_and_backward_functions(\n\u001b[1;32m   1325\u001b[0m         \u001b[0margs\u001b[0m\u001b[0;34m,\u001b[0m\u001b[0;34m\u001b[0m\u001b[0;34m\u001b[0m\u001b[0m\n",
      "\u001b[0;32m/usr/local/lib/python3.10/dist-packages/tensorflow/python/eager/polymorphic_function/atomic_function.py\u001b[0m in \u001b[0;36mcall_preflattened\u001b[0;34m(self, args)\u001b[0m\n\u001b[1;32m    214\u001b[0m   \u001b[0;32mdef\u001b[0m \u001b[0mcall_preflattened\u001b[0m\u001b[0;34m(\u001b[0m\u001b[0mself\u001b[0m\u001b[0;34m,\u001b[0m \u001b[0margs\u001b[0m\u001b[0;34m:\u001b[0m \u001b[0mSequence\u001b[0m\u001b[0;34m[\u001b[0m\u001b[0mcore\u001b[0m\u001b[0;34m.\u001b[0m\u001b[0mTensor\u001b[0m\u001b[0;34m]\u001b[0m\u001b[0;34m)\u001b[0m \u001b[0;34m->\u001b[0m \u001b[0mAny\u001b[0m\u001b[0;34m:\u001b[0m\u001b[0;34m\u001b[0m\u001b[0;34m\u001b[0m\u001b[0m\n\u001b[1;32m    215\u001b[0m     \u001b[0;34m\"\"\"Calls with flattened tensor inputs and returns the structured output.\"\"\"\u001b[0m\u001b[0;34m\u001b[0m\u001b[0;34m\u001b[0m\u001b[0m\n\u001b[0;32m--> 216\u001b[0;31m     \u001b[0mflat_outputs\u001b[0m \u001b[0;34m=\u001b[0m \u001b[0mself\u001b[0m\u001b[0;34m.\u001b[0m\u001b[0mcall_flat\u001b[0m\u001b[0;34m(\u001b[0m\u001b[0;34m*\u001b[0m\u001b[0margs\u001b[0m\u001b[0;34m)\u001b[0m\u001b[0;34m\u001b[0m\u001b[0;34m\u001b[0m\u001b[0m\n\u001b[0m\u001b[1;32m    217\u001b[0m     \u001b[0;32mreturn\u001b[0m \u001b[0mself\u001b[0m\u001b[0;34m.\u001b[0m\u001b[0mfunction_type\u001b[0m\u001b[0;34m.\u001b[0m\u001b[0mpack_output\u001b[0m\u001b[0;34m(\u001b[0m\u001b[0mflat_outputs\u001b[0m\u001b[0;34m)\u001b[0m\u001b[0;34m\u001b[0m\u001b[0;34m\u001b[0m\u001b[0m\n\u001b[1;32m    218\u001b[0m \u001b[0;34m\u001b[0m\u001b[0m\n",
      "\u001b[0;32m/usr/local/lib/python3.10/dist-packages/tensorflow/python/eager/polymorphic_function/atomic_function.py\u001b[0m in \u001b[0;36mcall_flat\u001b[0;34m(self, *args)\u001b[0m\n\u001b[1;32m    249\u001b[0m         \u001b[0;32mwith\u001b[0m \u001b[0mrecord\u001b[0m\u001b[0;34m.\u001b[0m\u001b[0mstop_recording\u001b[0m\u001b[0;34m(\u001b[0m\u001b[0;34m)\u001b[0m\u001b[0;34m:\u001b[0m\u001b[0;34m\u001b[0m\u001b[0;34m\u001b[0m\u001b[0m\n\u001b[1;32m    250\u001b[0m           \u001b[0;32mif\u001b[0m \u001b[0mself\u001b[0m\u001b[0;34m.\u001b[0m\u001b[0m_bound_context\u001b[0m\u001b[0;34m.\u001b[0m\u001b[0mexecuting_eagerly\u001b[0m\u001b[0;34m(\u001b[0m\u001b[0;34m)\u001b[0m\u001b[0;34m:\u001b[0m\u001b[0;34m\u001b[0m\u001b[0;34m\u001b[0m\u001b[0m\n\u001b[0;32m--> 251\u001b[0;31m             outputs = self._bound_context.call_function(\n\u001b[0m\u001b[1;32m    252\u001b[0m                 \u001b[0mself\u001b[0m\u001b[0;34m.\u001b[0m\u001b[0mname\u001b[0m\u001b[0;34m,\u001b[0m\u001b[0;34m\u001b[0m\u001b[0;34m\u001b[0m\u001b[0m\n\u001b[1;32m    253\u001b[0m                 \u001b[0mlist\u001b[0m\u001b[0;34m(\u001b[0m\u001b[0margs\u001b[0m\u001b[0;34m)\u001b[0m\u001b[0;34m,\u001b[0m\u001b[0;34m\u001b[0m\u001b[0;34m\u001b[0m\u001b[0m\n",
      "\u001b[0;32m/usr/local/lib/python3.10/dist-packages/tensorflow/python/eager/context.py\u001b[0m in \u001b[0;36mcall_function\u001b[0;34m(self, name, tensor_inputs, num_outputs)\u001b[0m\n\u001b[1;32m   1484\u001b[0m     \u001b[0mcancellation_context\u001b[0m \u001b[0;34m=\u001b[0m \u001b[0mcancellation\u001b[0m\u001b[0;34m.\u001b[0m\u001b[0mcontext\u001b[0m\u001b[0;34m(\u001b[0m\u001b[0;34m)\u001b[0m\u001b[0;34m\u001b[0m\u001b[0;34m\u001b[0m\u001b[0m\n\u001b[1;32m   1485\u001b[0m     \u001b[0;32mif\u001b[0m \u001b[0mcancellation_context\u001b[0m \u001b[0;32mis\u001b[0m \u001b[0;32mNone\u001b[0m\u001b[0;34m:\u001b[0m\u001b[0;34m\u001b[0m\u001b[0;34m\u001b[0m\u001b[0m\n\u001b[0;32m-> 1486\u001b[0;31m       outputs = execute.execute(\n\u001b[0m\u001b[1;32m   1487\u001b[0m           \u001b[0mname\u001b[0m\u001b[0;34m.\u001b[0m\u001b[0mdecode\u001b[0m\u001b[0;34m(\u001b[0m\u001b[0;34m\"utf-8\"\u001b[0m\u001b[0;34m)\u001b[0m\u001b[0;34m,\u001b[0m\u001b[0;34m\u001b[0m\u001b[0;34m\u001b[0m\u001b[0m\n\u001b[1;32m   1488\u001b[0m           \u001b[0mnum_outputs\u001b[0m\u001b[0;34m=\u001b[0m\u001b[0mnum_outputs\u001b[0m\u001b[0;34m,\u001b[0m\u001b[0;34m\u001b[0m\u001b[0;34m\u001b[0m\u001b[0m\n",
      "\u001b[0;32m/usr/local/lib/python3.10/dist-packages/tensorflow/python/eager/execute.py\u001b[0m in \u001b[0;36mquick_execute\u001b[0;34m(op_name, num_outputs, inputs, attrs, ctx, name)\u001b[0m\n\u001b[1;32m     51\u001b[0m   \u001b[0;32mtry\u001b[0m\u001b[0;34m:\u001b[0m\u001b[0;34m\u001b[0m\u001b[0;34m\u001b[0m\u001b[0m\n\u001b[1;32m     52\u001b[0m     \u001b[0mctx\u001b[0m\u001b[0;34m.\u001b[0m\u001b[0mensure_initialized\u001b[0m\u001b[0;34m(\u001b[0m\u001b[0;34m)\u001b[0m\u001b[0;34m\u001b[0m\u001b[0;34m\u001b[0m\u001b[0m\n\u001b[0;32m---> 53\u001b[0;31m     tensors = pywrap_tfe.TFE_Py_Execute(ctx._handle, device_name, op_name,\n\u001b[0m\u001b[1;32m     54\u001b[0m                                         inputs, attrs, num_outputs)\n\u001b[1;32m     55\u001b[0m   \u001b[0;32mexcept\u001b[0m \u001b[0mcore\u001b[0m\u001b[0;34m.\u001b[0m\u001b[0m_NotOkStatusException\u001b[0m \u001b[0;32mas\u001b[0m \u001b[0me\u001b[0m\u001b[0;34m:\u001b[0m\u001b[0;34m\u001b[0m\u001b[0;34m\u001b[0m\u001b[0m\n",
      "\u001b[0;31mKeyboardInterrupt\u001b[0m: "
     ]
    }
   ],
   "source": [
    "# 체크포인트 콜백 정의\n",
    "checkpoint_callback = ModelCheckpoint(\n",
    "    filepath='/content/drive/MyDrive/checkpoints/seq2seq_attention_epoch_{epoch:02d}_{val_loss:.4f}.keras',\n",
    "    save_weights_only=True,\n",
    "    save_freq='epoch'\n",
    ")\n",
    "\n",
    "\n",
    "# 모델 학습\n",
    "batch_size = 32\n",
    "epochs = 50\n",
    "history = model.fit(\n",
    "    [train_source, train_target],\n",
    "    train_target,\n",
    "    validation_data=([val_source, val_target], val_target),\n",
    "    batch_size=batch_size,\n",
    "    epochs=epochs,\n",
    "    callbacks=[checkpoint_callback]\n",
    ")\n"
   ]
  },
  {
   "cell_type": "markdown",
   "metadata": {},
   "source": [
    "### 4. 모델 평가"
   ]
  },
  {
   "cell_type": "code",
   "execution_count": null,
   "metadata": {
    "colab": {
     "base_uri": "https://localhost:8080/",
     "height": 564
    },
    "id": "EhXqBiJOhbzY",
    "outputId": "bb4f7814-bc65-4390-90a4-e9a809f7d7d3"
   },
   "outputs": [
    {
     "data": {
      "image/png": "[encoded data removed]",
      "text/plain": [
       "<Figure size 1000x600 with 1 Axes>"
      ]
     },
     "metadata": {},
     "output_type": "display_data"
    }
   ],
   "source": [
    "import matplotlib.pyplot as plt\n",
    "\n",
    "# 손실 값과 검증 손실 값을 리스트로 저장\n",
    "train_loss = [1.1425, 0.9712, 0.8017, 0.6516, 0.5310, 0.4401, 0.3734, 0.3232, 0.2846, 0.2538, 0.2285, 0.2076, 0.1899, 0.1749, 0.1621, 0.1510, 0.1413, 0.1329, 0.1254, 0.1187, 0.1127, 0.1073, 0.1024, 0.0978, 0.0937, 0.0899, 0.0863, 0.0830, 0.0800, 0.0771, 0.0745, 0.0720, 0.0696]\n",
    "val_loss = [1.0628, 0.8876, 0.7248, 0.5858, 0.4781, 0.4015, 0.3452, 0.3027, 0.2695, 0.2444, 0.2226, 0.2041, 0.1894, 0.1775, 0.1658, 0.1561, 0.1483, 0.1415, 0.1351, 0.1290, 0.1247, 0.1195, 0.1155, 0.1114, 0.1078, 0.1047, 0.1018, 0.0988, 0.0964, 0.0946, 0.0917, 0.0895, 0.0875]\n",
    "\n",
    "# 손실 값과 검증 손실 값을 딕셔너리로 저장\n",
    "history_data = {\n",
    "    \"loss\": train_loss,\n",
    "    \"val_loss\": val_loss\n",
    "}\n",
    "\n",
    "\n",
    "# 손실 값과 검증 손실 값을 리스트에서 추출\n",
    "loss = history_data[\"loss\"]\n",
    "val_loss = history_data[\"val_loss\"]\n",
    "\n",
    "# Epoch 수를 생성\n",
    "epochs = range(1, len(loss) + 1)\n",
    "\n",
    "# 손실 시각화\n",
    "plt.figure(figsize=(10, 6))\n",
    "plt.plot(epochs, loss, 'bo-', label='Training Loss')\n",
    "plt.plot(epochs, val_loss, 'ro-', label='Validation Loss')\n",
    "plt.title('Training and Validation Loss')\n",
    "plt.xlabel('Epochs')\n",
    "plt.ylabel('Loss')\n",
    "plt.legend()\n",
    "plt.grid(True)\n",
    "plt.show()\n"
   ]
  },
  {
   "cell_type": "code",
   "execution_count": null,
   "metadata": {
    "colab": {
     "base_uri": "https://localhost:8080/"
    },
    "id": "oSD1u0_Xhdbr",
    "outputId": "3411063d-b615-4123-fc82-237372bcfe40"
   },
   "outputs": [
    {
     "name": "stdout",
     "output_type": "stream",
     "text": [
      "Model: \"model_4\"\n",
      "__________________________________________________________________________________________________\n",
      " Layer (type)                Output Shape                 Param #   Connected to                  \n",
      "==================================================================================================\n",
      " encoder_input (InputLayer)  [(None, 64)]                 0         []                            \n",
      "                                                                                                  \n",
      " decoder_input (InputLayer)  [(None, 64)]                 0         []                            \n",
      "                                                                                                  \n",
      " embedding_8 (Embedding)     (None, 64, 256)              1186560   ['encoder_input[0][0]']       \n",
      "                                                          0                                       \n",
      "                                                                                                  \n",
      " embedding_9 (Embedding)     (None, 64, 256)              1186560   ['decoder_input[0][0]']       \n",
      "                                                          0                                       \n",
      "                                                                                                  \n",
      " lstm_8 (LSTM)               [(None, 64, 512),            1574912   ['embedding_8[0][0]']         \n",
      "                              (None, 512),                                                        \n",
      "                              (None, 512)]                                                        \n",
      "                                                                                                  \n",
      " lstm_9 (LSTM)               [(None, 64, 512),            1574912   ['embedding_9[0][0]',         \n",
      "                              (None, 512),                           'lstm_8[0][1]',              \n",
      "                              (None, 512)]                           'lstm_8[0][2]']              \n",
      "                                                                                                  \n",
      " attention_4 (Attention)     (None, 64, 512)              0         ['lstm_9[0][0]',              \n",
      "                                                                     'lstm_8[0][0]']              \n",
      "                                                                                                  \n",
      " concatenate_4 (Concatenate  (None, 64, 1024)             0         ['lstm_9[0][0]',              \n",
      " )                                                                   'attention_4[0][0]']         \n",
      "                                                                                                  \n",
      " dropout_4 (Dropout)         (None, 64, 1024)             0         ['concatenate_4[0][0]']       \n",
      "                                                                                                  \n",
      " dense_4 (Dense)             (None, 64, 46350)            4750875   ['dropout_4[0][0]']           \n",
      "                                                          0                                       \n",
      "                                                                                                  \n",
      "==================================================================================================\n",
      "Total params: 74389774 (283.77 MB)\n",
      "Trainable params: 74389774 (283.77 MB)\n",
      "Non-trainable params: 0 (0.00 Byte)\n",
      "__________________________________________________________________________________________________\n"
     ]
    }
   ],
   "source": [
    "checkpoint_path = '/content/drive/MyDrive/checkpoints/seq2seq_attention_epoch_33_0.0875.keras'\n",
    "\n",
    "model.load_weights(checkpoint_path)\n",
    "\n",
    "model.summary()"
   ]
  },
  {
   "cell_type": "markdown",
   "metadata": {},
   "source": [
    "Corpus BLEU(100문장) 성능:\n",
    "- 방언 -> 표준어 : 0.33\n",
    "- 표준어 -> 방언 : 0.12"
   ]
  },
  {
   "cell_type": "markdown",
   "metadata": {},
   "source": [
    "### 단일 문장 번역 결과 확인 "
   ]
  },
  {
   "cell_type": "code",
   "execution_count": null,
   "metadata": {
    "colab": {
     "base_uri": "https://localhost:8080/"
    },
    "id": "CMCn2opE7XqZ",
    "outputId": "4a70d49a-14d1-46f4-c17e-2d969ed5eeea"
   },
   "outputs": [
    {
     "name": "stdout",
     "output_type": "stream",
     "text": [
      "1/1 [==============================] - 0s 25ms/step\n",
      "input_sentence : 너 혼자 살면서 뭔 놈의 빨래를 얼마나 한다고 저런 것을 사버렸어\n",
      "표준어 -> 방언: 너 혼자 살면서 뭔 따로 빨래를 얼마나 한다고 저런 것을 사버렸어\n",
      "\n",
      "1/1 [==============================] - 0s 24ms/step\n",
      "input_sentence : 니 혼자 살믄서 뭔 노무 빨래를 얼마나 헌다고 저런 것을 사부렀어\n",
      "방언 -> 표준어: 니 혼자 추운데 뭔 먹 빨래를 얼마나 헌다고 저런 것을 사부렀어\n"
     ]
    }
   ],
   "source": [
    "# 번역 함수 정의\n",
    "def translate_sentence(input_sentence, tokenizer, max_seq_length, model, token):\n",
    "    input_seq = tokenizer.texts_to_sequences([token + \" \" + input_sentence])\n",
    "    input_seq = pad_sequences(input_seq, maxlen=max_seq_length, padding='post')\n",
    "    translated_sentence = model.predict([input_seq, input_seq])\n",
    "    translated_sentence = np.argmax(translated_sentence, axis=-1)\n",
    "\n",
    "    # 디코딩된 문장 생성\n",
    "    decoded_sentence = ''\n",
    "    for token_index in translated_sentence[0]:\n",
    "        if token_index == 0:\n",
    "            break\n",
    "        decoded_sentence += tokenizer.index_word[token_index] + ' '\n",
    "\n",
    "    # 문장의 시작과 끝 토큰 제거 및 공백 제거\n",
    "    decoded_sentence = decoded_sentence.replace('<start>', '').replace('<end>', '').strip()\n",
    "\n",
    "    return decoded_sentence\n",
    "\n",
    "# 특정 문장 번역 예시\n",
    "input_sentence = \"너 혼자 살면서 뭔 놈의 빨래를 얼마나 한다고 저런 것을 사버렸어\"  # 예시 입력 문장\n",
    "translated_sentence = translate_sentence(input_sentence, tokenizer, max_seq_length, model, standard_token)\n",
    "print('input_sentence :', input_sentence)\n",
    "print(\"표준어 -> 방언:\", translated_sentence)\n",
    "\n",
    "print()\n",
    "\n",
    "input_sentence = \"니 혼자 살믄서 뭔 노무 빨래를 얼마나 헌다고 저런 것을 사부렀어\"  # 예시 입력 문장\n",
    "translated_sentence = translate_sentence(input_sentence, tokenizer, max_seq_length, model, dialect_token)\n",
    "print('input_sentence :', input_sentence)\n",
    "print(\"방언 -> 표준어:\", translated_sentence)"
   ]
  }
 ],
 "metadata": {
  "accelerator": "GPU",
  "colab": {
   "gpuType": "L4",
   "machine_shape": "hm",
   "provenance": []
  },
  "kernelspec": {
   "display_name": "Python 3 (ipykernel)",
   "language": "python",
   "name": "python3"
  },
  "language_info": {
   "codemirror_mode": {
    "name": "ipython",
    "version": 3
   },
   "file_extension": ".py",
   "mimetype": "text/x-python",
   "name": "python",
   "nbconvert_exporter": "python",
   "pygments_lexer": "ipython3",
   "version": "3.11.5"
  }
 },
 "nbformat": 4,
 "nbformat_minor": 1
}
